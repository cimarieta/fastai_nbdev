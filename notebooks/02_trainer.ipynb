{
 "cells": [
  {
   "cell_type": "code",
   "execution_count": null,
   "metadata": {},
   "outputs": [],
   "source": [
    "# default_exp trainer"
   ]
  },
  {
   "cell_type": "code",
   "execution_count": null,
   "metadata": {},
   "outputs": [],
   "source": [
    "# export\n",
    "import joblib\n",
    "import pandas as pd\n",
    "from sklearn.feature_extraction.text import CountVectorizer\n",
    "from sklearn.tree import DecisionTreeClassifier\n",
    "from sklearn.pipeline import Pipeline"
   ]
  },
  {
   "cell_type": "code",
   "execution_count": null,
   "metadata": {},
   "outputs": [],
   "source": [
    "# export\n",
    "train_df = pd.read_csv('data/train.csv')\n",
    "\n",
    "X_train = train_df['norm_text'].values\n",
    "y_train = train_df['y'].values\n",
    "\n",
    "stopwords_str = \"\"\"de / a / o / que / e / e / do / da / em / um / para / com / uma / os / no / se / na / por / mais / as / dos / como / ao / ele / das / a / seu / sua / ou / quando / muito / nos / ja / eu / tambem / so / pelo / pela / ate / isso / ela / entre / depois / sem / mesmo / aos / seus / quem / nas / me / esse / eles / voce / essa / num / nem / suas / meu / as / minha / numa / pelos / elas / qual / nos / lhe / deles / essas / esses / pelas / este / dele / tu / te / voces / vos / lhes / meus / minhas / teu / tua / teus / tuas / nosso / nossa / nossos / nossas / dela / delas / esta / estes / estas / aquele / aquela / aqueles / aquelas / isto / aquilo / estou / esta / estamos / estao / estive / esteve / estivemos / estiveram / estava / estavamos / estavam / estivera / estiveramos / esteja / estejamos / estejam / estivesse / estivessemos / estivessem / estiver / estivermos / estiverem / hei / ha / havemos / hao / houve / houvemos / houveram / houvera / houveramos / haja / hajamos / hajam / houvesse / houvessemos / houvessem / houver / houvermos / houverem / houverei / houvera / houveremos / houverao / houveria / houveriamos / houveriam / sou / somos / sao / era / eramos / eram / fui / foi / fomos / foram / fora / foramos / seja / sejamos / sejam / fosse / fossemos / fossem / for / formos / forem / serei / sera / seremos / serao / seria / seriamos / seriam / tenho / tem / temos / tem / tinha / tinhamos / tinham / tive / teve / tivemos / tiveram / tivera / tiveramos / tenha / tenhamos / tenham / tivesse / tivessemos / tivessem / tiver / tivermos / tiverem / terei / tera / teremos / terao / teria / teriamos / teriam\"\"\"\n",
    "\n",
    "stopwords = stopwords_str.split(' / ')\n",
    "\n",
    "steps = [\n",
    "    ('vect', CountVectorizer(max_features=200, stop_words=stopwords)),\n",
    "    ('clf', DecisionTreeClassifier(min_samples_leaf=10, class_weight='balanced'))\n",
    "]\n",
    "\n",
    "pipeline = Pipeline(steps)\n",
    "\n",
    "sentiment_analyzer = pipeline.fit(X_train, y_train)\n",
    "\n",
    "joblib.dump(sentiment_analyzer, 'models/sentiment_analyzer.joblib')"
   ]
  }
 ],
 "metadata": {
  "kernelspec": {
   "display_name": "Python 3",
   "language": "python",
   "name": "python3"
  },
  "language_info": {
   "codemirror_mode": {
    "name": "ipython",
    "version": 3
   },
   "file_extension": ".py",
   "mimetype": "text/x-python",
   "name": "python",
   "nbconvert_exporter": "python",
   "pygments_lexer": "ipython3",
   "version": "3.6.9"
  }
 },
 "nbformat": 4,
 "nbformat_minor": 2
}
