{
 "cells": [
  {
   "cell_type": "code",
   "execution_count": null,
   "metadata": {},
   "outputs": [],
   "source": [
    "# default_exp evaluator"
   ]
  },
  {
   "cell_type": "code",
   "execution_count": null,
   "metadata": {},
   "outputs": [],
   "source": [
    "# export\n",
    "import joblib\n",
    "import mlflow\n",
    "import pandas as pd\n",
    "from sklearn.metrics import precision_recall_fscore_support, confusion_matrix\n",
    "\n",
    "remote_server_uri = \"http://0.0.0.0:8889\"\n",
    "mlflow.set_tracking_uri(remote_server_uri)"
   ]
  },
  {
   "cell_type": "code",
   "execution_count": null,
   "metadata": {},
   "outputs": [],
   "source": [
    "# export\n",
    "sentiment_analyzer = joblib.load('models/sentiment_analyzer.joblib')\n",
    "test_df = pd.read_csv('data/test.csv')\n",
    "\n",
    "X_test = test_df['norm_text'].values\n",
    "y_test = test_df['y'].values\n",
    "\n",
    "y_pred = sentiment_analyzer.predict(X_test)\n",
    "\n",
    "precision, recall, fscore, _ = precision_recall_fscore_support(y_test, y_pred, average='weighted')\n",
    "\n",
    "cm = confusion_matrix(y_test, y_pred)\n",
    "true_negative = cm[0][0]\n",
    "false_positive = cm[0][1]\n",
    "false_negative = cm[1][0]\n",
    "true_positive = cm[1][1]"
   ]
  },
  {
   "cell_type": "code",
   "execution_count": null,
   "metadata": {},
   "outputs": [],
   "source": [
    "# export\n",
    "with mlflow.start_run():\n",
    "    mlflow.log_metric(\"precision\", precision)\n",
    "    mlflow.log_metric(\"recall\", recall)\n",
    "    mlflow.log_metric(\"fscore\", fscore)\n",
    "    mlflow.log_metric(\"true_negative\", true_negative)\n",
    "    mlflow.log_metric(\"false_positive\", false_positive)\n",
    "    mlflow.log_metric(\"false_negative\", false_negative)\n",
    "    mlflow.log_metric(\"true_positive\", true_positive)\n",
    "    mlflow.log_metric(\"positive_support\", true_positive + false_negative)\n",
    "    mlflow.log_metric(\"negative_support\", true_negative + false_positive)"
   ]
  }
 ],
 "metadata": {
  "kernelspec": {
   "display_name": "Python 3",
   "language": "python",
   "name": "python3"
  },
  "language_info": {
   "codemirror_mode": {
    "name": "ipython",
    "version": 3
   },
   "file_extension": ".py",
   "mimetype": "text/x-python",
   "name": "python",
   "nbconvert_exporter": "python",
   "pygments_lexer": "ipython3",
   "version": "3.6.9"
  }
 },
 "nbformat": 4,
 "nbformat_minor": 2
}
