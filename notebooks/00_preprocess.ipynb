{
 "cells": [
  {
   "cell_type": "code",
   "execution_count": null,
   "metadata": {},
   "outputs": [],
   "source": [
    "# default_exp preprocess"
   ]
  },
  {
   "cell_type": "code",
   "execution_count": null,
   "metadata": {},
   "outputs": [],
   "source": [
    "# export\n",
    "from itertools import chain\n",
    "import pandas as pd\n",
    "import string"
   ]
  },
  {
   "cell_type": "code",
   "execution_count": null,
   "metadata": {},
   "outputs": [],
   "source": [
    "# export\n",
    "translation_table = str.maketrans({key: ' ' for key in string.punctuation}) \n",
    "\n",
    "def remove_punctuation(text):\n",
    "    return text.translate(translation_table)\n",
    "\n",
    "selected_cols = ['product_name', 'product_brand', 'site_category_lv1', 'site_category_lv2',\n",
    "                 'review_title', 'review_text', 'recommend_to_a_friend']\n",
    "\n",
    "path = 'data'\n",
    "reviews_df = pd.read_csv(f'{path}/B2W-Reviews01.csv', sep=';', low_memory=False)[selected_cols].fillna('')\n",
    "\n",
    "reviews_df['text'] = reviews_df['review_title'] + ' ' + reviews_df['review_text']\n",
    "\n",
    "reviews_df['norm_text'] = reviews_df['text'].str.normalize('NFKD').str.encode('ascii', 'ignore').str.decode('utf-8')\n",
    "reviews_df['norm_text'] = reviews_df['norm_text'].str.lower()\n",
    "reviews_df['norm_text'] = reviews_df['norm_text'].str.replace(r'[0-9]', '')\n",
    "reviews_df['norm_text'] = reviews_df['norm_text'].apply(remove_punctuation)\n",
    "\n",
    "reviews_df['y'] = (reviews_df['recommend_to_a_friend'] == 'Yes').astype(int)\n",
    "\n",
    "reviews_df.to_csv('data/normalized_reviews.csv', index=False)"
   ]
  },
  {
   "cell_type": "code",
   "execution_count": null,
   "metadata": {},
   "outputs": [],
   "source": [
    "from nbdev.export import *\n",
    "notebook2script()"
   ]
  },
  {
   "cell_type": "code",
   "execution_count": null,
   "metadata": {},
   "outputs": [],
   "source": []
  }
 ],
 "metadata": {
  "kernelspec": {
   "display_name": "Python 3",
   "language": "python",
   "name": "python3"
  },
  "language_info": {
   "codemirror_mode": {
    "name": "ipython",
    "version": 3
   },
   "file_extension": ".py",
   "mimetype": "text/x-python",
   "name": "python",
   "nbconvert_exporter": "python",
   "pygments_lexer": "ipython3",
   "version": "3.6.9"
  }
 },
 "nbformat": 4,
 "nbformat_minor": 2
}
